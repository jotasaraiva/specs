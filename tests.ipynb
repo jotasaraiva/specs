{
 "cells": [
  {
   "cell_type": "markdown",
   "id": "a27e9d21-67fb-4c91-bdc5-5ec6d5bb60be",
   "metadata": {},
   "source": [
    "# Spectral Envelope Smoothing and Energy Correlation Screening\n",
    "This notebook presents code for reproducing an undergraduate research project focused on creating a new Change Detection (CD) technique satellite image time series. In this case study, Synthetic Aperture Radar (SAR) data is utilized, collected from Sentinel-1 through the Google Earth Engine Python API."
   ]
  },
  {
   "cell_type": "markdown",
   "id": "ccebbb69-0cb5-4b5e-b8fe-2f2f47217bb3",
   "metadata": {},
   "source": [
    "## Imports\n",
    "These are the necessary packages for reproducing this code. Install from `environment.yml`."
   ]
  },
  {
   "cell_type": "code",
   "execution_count": 93,
   "id": "3ea4cb63-0059-4ac6-8c3f-7c24198b5a6d",
   "metadata": {},
   "outputs": [
    {
     "data": {
      "text/html": [
       "\n",
       "            <style>\n",
       "                .geemap-dark {\n",
       "                    --jp-widgets-color: white;\n",
       "                    --jp-widgets-label-color: white;\n",
       "                    --jp-ui-font-color1: white;\n",
       "                    --jp-layout-color2: #454545;\n",
       "                    background-color: #383838;\n",
       "                }\n",
       "\n",
       "                .geemap-dark .jupyter-button {\n",
       "                    --jp-layout-color3: #383838;\n",
       "                }\n",
       "\n",
       "                .geemap-colab {\n",
       "                    background-color: var(--colab-primary-surface-color, white);\n",
       "                }\n",
       "\n",
       "                .geemap-colab .jupyter-button {\n",
       "                    --jp-layout-color3: var(--colab-primary-surface-color, white);\n",
       "                }\n",
       "            </style>\n",
       "            "
      ],
      "text/plain": [
       "<IPython.core.display.HTML object>"
      ]
     },
     "metadata": {},
     "output_type": "display_data"
    }
   ],
   "source": [
    "import ee\n",
    "import geemap\n",
    "import pandas as pd\n",
    "import numpy as np\n",
    "import random\n",
    "import matplotlib.pyplot as plt\n",
    "import time\n",
    "import os\n",
    "import re\n",
    "from functools import reduce\n",
    "from skimage.filters import try_all_threshold, threshold_otsu, threshold_yen, threshold_triangle\n",
    "from pkg import pkg\n",
    "from pkg import save\n",
    "from osgeo import gdal\n",
    "import rasterio\n",
    "from rasterio.mask import mask\n",
    "import geopandas as gpd\n",
    "import spenv"
   ]
  },
  {
   "cell_type": "markdown",
   "id": "c3aceb18-5643-46e0-a767-e2b08c2d5ec7",
   "metadata": {},
   "source": [
    "## Data extraction\n",
    "In this study, GEE data is collected programatically. This step in the notebook is somewhat computationally heavy and can be skipped if the necessary data is already available."
   ]
  },
  {
   "cell_type": "markdown",
   "id": "3d9652fc-d5e3-42ac-9dbd-ccc4a3a6fdb1",
   "metadata": {},
   "source": [
    "### Using GEE \n",
    "The area of interest is used to filter and crop the satellite image time series in GEE as shown below."
   ]
  },
  {
   "cell_type": "code",
   "execution_count": 2,
   "id": "e8ba63cf-84aa-45be-a28c-4abfade62cef",
   "metadata": {},
   "outputs": [
    {
     "data": {
      "text/html": [
       "\n",
       "            <style>\n",
       "                .geemap-dark {\n",
       "                    --jp-widgets-color: white;\n",
       "                    --jp-widgets-label-color: white;\n",
       "                    --jp-ui-font-color1: white;\n",
       "                    --jp-layout-color2: #454545;\n",
       "                    background-color: #383838;\n",
       "                }\n",
       "\n",
       "                .geemap-dark .jupyter-button {\n",
       "                    --jp-layout-color3: #383838;\n",
       "                }\n",
       "\n",
       "                .geemap-colab {\n",
       "                    background-color: var(--colab-primary-surface-color, white);\n",
       "                }\n",
       "\n",
       "                .geemap-colab .jupyter-button {\n",
       "                    --jp-layout-color3: var(--colab-primary-surface-color, white);\n",
       "                }\n",
       "            </style>\n",
       "            "
      ],
      "text/plain": [
       "<IPython.core.display.HTML object>"
      ]
     },
     "metadata": {},
     "output_type": "display_data"
    }
   ],
   "source": [
    "ee.Authenticate()\n",
    "ee.Initialize()\n",
    "coordenadas = \"-51.881964,3.928400,-51.746512,3.791524\"\n",
    "x1, y1, x2, y2 = coordenadas.split(\",\")\n",
    "\n",
    "datas = \"2018-01-01,2020-12-31\"\n",
    "inicio, fim = datas.split(\",\")\n",
    "escala = 30\n",
    "dummy_value = 99999\n",
    "\n",
    "geom = ee.Geometry.Polygon([[[float(x1),float(y2)],\n",
    "                             [float(x2),float(y2)],\n",
    "                             [float(x2),float(y1)],\n",
    "                             [float(x1),float(y1)],\n",
    "                             [float(x1),float(y2)]]])\n",
    "\n",
    "\n",
    "sentinel1 = ee.ImageCollection('COPERNICUS/S1_GRD')\\\n",
    "    .filterBounds(geom)\\\n",
    "    .filterDate(inicio,fim)\\\n",
    "    .filter(ee.Filter.listContains('transmitterReceiverPolarisation', 'VV'))\\\n",
    "    .filter(ee.Filter.listContains('transmitterReceiverPolarisation', 'VH'))\\\n",
    "    .filter(ee.Filter.eq('instrumentMode', 'IW'))\n",
    "    \n",
    "v_emit_asc = sentinel1.filter(ee.Filter.eq('orbitProperties_pass', 'ASCENDING'))\n",
    "v_emit_desc = sentinel1.filter(ee.Filter.eq('orbitProperties_pass', 'DESCENDING'))\n",
    "\n",
    "image = ee.Image(dummy_value).blend(v_emit_desc.map(pkg.add_amplitude).select('amplitude').toBands())\n",
    "image_names = image.bandNames().getInfo()"
   ]
  },
  {
   "cell_type": "markdown",
   "id": "e8678a47-d2cd-416b-b6cb-5b4be917c1dc",
   "metadata": {},
   "source": [
    "### Mapping with **geemap**\n",
    "We can plot the map using `geemap` to get an interactive view of the AOI. The region is located in the border between Brazil and French Guyana."
   ]
  },
  {
   "cell_type": "code",
   "execution_count": 3,
   "id": "62c1d967-9bd4-4b08-9430-3958201bb876",
   "metadata": {},
   "outputs": [
    {
     "data": {
      "text/html": [
       "\n",
       "            <style>\n",
       "                .geemap-dark {\n",
       "                    --jp-widgets-color: white;\n",
       "                    --jp-widgets-label-color: white;\n",
       "                    --jp-ui-font-color1: white;\n",
       "                    --jp-layout-color2: #454545;\n",
       "                    background-color: #383838;\n",
       "                }\n",
       "\n",
       "                .geemap-dark .jupyter-button {\n",
       "                    --jp-layout-color3: #383838;\n",
       "                }\n",
       "\n",
       "                .geemap-colab {\n",
       "                    background-color: var(--colab-primary-surface-color, white);\n",
       "                }\n",
       "\n",
       "                .geemap-colab .jupyter-button {\n",
       "                    --jp-layout-color3: var(--colab-primary-surface-color, white);\n",
       "                }\n",
       "            </style>\n",
       "            "
      ],
      "text/plain": [
       "<IPython.core.display.HTML object>"
      ]
     },
     "metadata": {},
     "output_type": "display_data"
    },
    {
     "data": {
      "application/vnd.jupyter.widget-view+json": {
       "model_id": "f2dc1fdf077a4e409a91b528c2c0e83d",
       "version_major": 2,
       "version_minor": 0
      },
      "text/plain": [
       "Map(center=[3.859962, -51.814238], controls=(WidgetControl(options=['position', 'transparent_bg'], widget=Sear…"
      ]
     },
     "execution_count": 3,
     "metadata": {},
     "output_type": "execute_result"
    }
   ],
   "source": [
    "latitude_central = (float(x1)+float(x2))/2\n",
    "longitude_central = (float(y1)+float(y2))/2\n",
    "\n",
    "my_map = geemap.Map(center=(longitude_central, latitude_central), zoom=13)\n",
    "my_map.addLayer(geom)\n",
    "\n",
    "rgb = ee.Image.rgb(\n",
    "    v_emit_desc.mean().select('VV'),\n",
    "    v_emit_desc.mean().select('VH'),\n",
    "    v_emit_desc.mean().select('VV').divide(v_emit_desc.mean().select('VH'))\n",
    ").clip(geom)\n",
    "\n",
    "my_map.addLayer(rgb, {'min': [-25,-25,0], 'max': [0,0,2]})\n",
    "\n",
    "my_map"
   ]
  },
  {
   "cell_type": "code",
   "execution_count": 4,
   "id": "de427c5b-8043-469a-a42b-6ea25aca0813",
   "metadata": {},
   "outputs": [
    {
     "data": {
      "text/html": [
       "\n",
       "            <style>\n",
       "                .geemap-dark {\n",
       "                    --jp-widgets-color: white;\n",
       "                    --jp-widgets-label-color: white;\n",
       "                    --jp-ui-font-color1: white;\n",
       "                    --jp-layout-color2: #454545;\n",
       "                    background-color: #383838;\n",
       "                }\n",
       "\n",
       "                .geemap-dark .jupyter-button {\n",
       "                    --jp-layout-color3: #383838;\n",
       "                }\n",
       "\n",
       "                .geemap-colab {\n",
       "                    background-color: var(--colab-primary-surface-color, white);\n",
       "                }\n",
       "\n",
       "                .geemap-colab .jupyter-button {\n",
       "                    --jp-layout-color3: var(--colab-primary-surface-color, white);\n",
       "                }\n",
       "            </style>\n",
       "            "
      ],
      "text/plain": [
       "<IPython.core.display.HTML object>"
      ]
     },
     "metadata": {},
     "output_type": "display_data"
    },
    {
     "data": {
      "text/plain": [
       "81"
      ]
     },
     "execution_count": 4,
     "metadata": {},
     "output_type": "execute_result"
    }
   ],
   "source": [
    "image_length = len(image.bandNames().getInfo())\n",
    "image_length"
   ]
  },
  {
   "cell_type": "markdown",
   "id": "7c4c41b1-d4c0-4d2a-b056-b7b0fb74fa4c",
   "metadata": {},
   "source": [
    "### Data extraction\n",
    "While GEE is a powerful cloud computing application, we need to work with the images locally. We can extract the data programmatically with the following script. This process can be slow depending on the size of the series."
   ]
  },
  {
   "cell_type": "code",
   "execution_count": 5,
   "id": "a2d53f1e-144b-4fb8-8c78-27996829412b",
   "metadata": {},
   "outputs": [
    {
     "data": {
      "text/html": [
       "\n",
       "            <style>\n",
       "                .geemap-dark {\n",
       "                    --jp-widgets-color: white;\n",
       "                    --jp-widgets-label-color: white;\n",
       "                    --jp-ui-font-color1: white;\n",
       "                    --jp-layout-color2: #454545;\n",
       "                    background-color: #383838;\n",
       "                }\n",
       "\n",
       "                .geemap-dark .jupyter-button {\n",
       "                    --jp-layout-color3: #383838;\n",
       "                }\n",
       "\n",
       "                .geemap-colab {\n",
       "                    background-color: var(--colab-primary-surface-color, white);\n",
       "                }\n",
       "\n",
       "                .geemap-colab .jupyter-button {\n",
       "                    --jp-layout-color3: var(--colab-primary-surface-color, white);\n",
       "                }\n",
       "            </style>\n",
       "            "
      ],
      "text/plain": [
       "<IPython.core.display.HTML object>"
      ]
     },
     "metadata": {},
     "output_type": "display_data"
    },
    {
     "name": "stdout",
     "output_type": "stream",
     "text": [
      "Image 1 done in 27.69 seconds\n",
      "Image 2 done in 25.41 seconds\n",
      "Image 3 done in 24.76 seconds\n",
      "Image 4 done in 24.16 seconds\n",
      "Image 5 done in 25.3 seconds\n",
      "Image 6 done in 26.21 seconds\n",
      "Image 7 done in 26.82 seconds\n",
      "Image 8 done in 26.86 seconds\n",
      "Image 9 done in 28.31 seconds\n",
      "Image 10 done in 24.79 seconds\n",
      "Image 11 done in 28.27 seconds\n",
      "Image 12 done in 31.31 seconds\n",
      "Image 13 done in 28.52 seconds\n",
      "Image 14 done in 28.39 seconds\n",
      "Image 15 done in 26.37 seconds\n",
      "Image 16 done in 24.99 seconds\n",
      "Image 17 done in 28.8 seconds\n",
      "Image 18 done in 24.41 seconds\n",
      "Image 19 done in 27.77 seconds\n",
      "Image 20 done in 27.97 seconds\n",
      "Image 21 done in 25.33 seconds\n",
      "Image 22 done in 26.52 seconds\n",
      "Image 23 done in 31.03 seconds\n",
      "Image 24 done in 25.76 seconds\n",
      "Image 25 done in 26.72 seconds\n",
      "Image 26 done in 25.71 seconds\n",
      "Image 27 done in 29.53 seconds\n",
      "Image 28 done in 26.16 seconds\n",
      "Image 29 done in 24.16 seconds\n",
      "Image 30 done in 23.49 seconds\n",
      "Image 31 done in 28.39 seconds\n",
      "Image 32 done in 27.82 seconds\n",
      "Image 33 done in 29.7 seconds\n",
      "Image 34 done in 24.78 seconds\n",
      "Image 35 done in 31.11 seconds\n",
      "Image 36 done in 32.7 seconds\n",
      "Image 37 done in 29.56 seconds\n",
      "Image 38 done in 30.34 seconds\n",
      "Image 39 done in 29.59 seconds\n",
      "Image 40 done in 24.51 seconds\n",
      "Image 41 done in 25.47 seconds\n",
      "Image 42 done in 28.09 seconds\n",
      "Image 43 done in 24.23 seconds\n",
      "Image 44 done in 29.19 seconds\n",
      "Image 45 done in 24.15 seconds\n",
      "Image 46 done in 30.66 seconds\n",
      "Image 47 done in 25.66 seconds\n",
      "Image 48 done in 32.87 seconds\n",
      "Image 49 done in 26.86 seconds\n",
      "Image 50 done in 27.25 seconds\n",
      "Image 51 done in 29.04 seconds\n",
      "Image 52 done in 28.34 seconds\n",
      "Image 53 done in 28.73 seconds\n",
      "Image 54 done in 31.53 seconds\n",
      "Image 55 done in 27.34 seconds\n",
      "Image 56 done in 27.24 seconds\n",
      "Image 57 done in 27.17 seconds\n",
      "Image 58 done in 29.34 seconds\n",
      "Image 59 done in 30.95 seconds\n",
      "Image 60 done in 29.59 seconds\n",
      "Image 61 done in 24.17 seconds\n",
      "Image 62 done in 30.96 seconds\n",
      "Image 63 done in 28.22 seconds\n",
      "Image 64 done in 28.41 seconds\n",
      "Image 65 done in 24.8 seconds\n",
      "Image 66 done in 27.61 seconds\n",
      "Image 67 done in 26.67 seconds\n",
      "Image 68 done in 25.06 seconds\n",
      "Image 69 done in 24.79 seconds\n",
      "Image 70 done in 29.94 seconds\n",
      "Image 71 done in 28.39 seconds\n",
      "Image 72 done in 29.59 seconds\n",
      "Image 73 done in 29.08 seconds\n",
      "Image 74 done in 29.07 seconds\n",
      "Image 75 done in 27.69 seconds\n",
      "Image 76 done in 22.42 seconds\n",
      "Image 77 done in 26.43 seconds\n",
      "Image 78 done in 26.46 seconds\n",
      "Image 79 done in 29.87 seconds\n",
      "Image 80 done in 26.83 seconds\n",
      "Image 81 done in 31.22 seconds\n",
      "Images extracted in 2231.42 seconds\n"
     ]
    }
   ],
   "source": [
    "df_list = []\n",
    "\n",
    "start_process = time.time()\n",
    "for i in range(0, image_length):\n",
    "    start = time.time()\n",
    "    temp = pkg.ee_to_pandas(image.select(i), geom, [image_names[i]], scale=10)\n",
    "    end = time.time()\n",
    "    df_list.append(temp)\n",
    "    print(\"Image \" + str(i+1) + \" done in \" + str(round(end - start, 2)) + \" seconds\")\n",
    "end_process = time.time()\n",
    "\n",
    "print(\"Images extracted in \" + str(round(end_process - start_process, 2)) + \" seconds\")"
   ]
  },
  {
   "cell_type": "markdown",
   "id": "46413f02-7926-44f9-8d2e-69f36c92fad4",
   "metadata": {},
   "source": [
    "### Raster conversion\n",
    "Now we convert the dataframes into rasters and store them in GeoTIF files. This procedure is taxing and slow and should eventually be improved upon."
   ]
  },
  {
   "cell_type": "code",
   "execution_count": 48,
   "id": "9601a6ac-3e48-4677-a6e5-fbeb94f724da",
   "metadata": {},
   "outputs": [
    {
     "data": {
      "text/html": [
       "\n",
       "            <style>\n",
       "                .geemap-dark {\n",
       "                    --jp-widgets-color: white;\n",
       "                    --jp-widgets-label-color: white;\n",
       "                    --jp-ui-font-color1: white;\n",
       "                    --jp-layout-color2: #454545;\n",
       "                    background-color: #383838;\n",
       "                }\n",
       "\n",
       "                .geemap-dark .jupyter-button {\n",
       "                    --jp-layout-color3: #383838;\n",
       "                }\n",
       "\n",
       "                .geemap-colab {\n",
       "                    background-color: var(--colab-primary-surface-color, white);\n",
       "                }\n",
       "\n",
       "                .geemap-colab .jupyter-button {\n",
       "                    --jp-layout-color3: var(--colab-primary-surface-color, white);\n",
       "                }\n",
       "            </style>\n",
       "            "
      ],
      "text/plain": [
       "<IPython.core.display.HTML object>"
      ]
     },
     "metadata": {},
     "output_type": "display_data"
    },
    {
     "name": "stdout",
     "output_type": "stream",
     "text": [
      "Raster 0 time: 53.08\n",
      "Raster 1 time: 53.1\n",
      "Raster 2 time: 54.15\n",
      "Raster 3 time: 53.87\n",
      "Raster 4 time: 54.47\n",
      "Raster 5 time: 57.53\n",
      "Raster 6 time: 57.27\n",
      "Raster 7 time: 54.08\n",
      "Raster 8 time: 53.1\n",
      "Raster 9 time: 52.6\n",
      "Raster 10 time: 59.61\n",
      "Raster 11 time: 53.1\n",
      "Raster 12 time: 57.03\n",
      "Raster 13 time: 111.03\n",
      "Raster 14 time: 108.04\n",
      "Raster 15 time: 54.23\n",
      "Raster 16 time: 54.65\n",
      "Raster 17 time: 56.57\n",
      "Raster 18 time: 57.17\n",
      "Raster 19 time: 54.43\n",
      "Raster 20 time: 54.13\n",
      "Raster 21 time: 54.01\n",
      "Raster 22 time: 53.54\n",
      "Raster 23 time: 54.01\n",
      "Raster 24 time: 56.52\n",
      "Raster 25 time: 57.61\n",
      "Raster 26 time: 53.9\n",
      "Raster 27 time: 55.3\n",
      "Raster 28 time: 52.16\n",
      "Raster 29 time: 51.62\n",
      "Raster 30 time: 51.9\n",
      "Raster 31 time: 52.77\n",
      "Raster 32 time: 53.59\n",
      "Raster 33 time: 53.29\n",
      "Raster 34 time: 51.76\n",
      "Raster 35 time: 51.63\n",
      "Raster 36 time: 52.15\n",
      "Raster 37 time: 52.62\n",
      "Raster 38 time: 51.68\n",
      "Raster 39 time: 54.05\n",
      "Raster 40 time: 54.16\n",
      "Raster 41 time: 61.1\n",
      "Raster 42 time: 51.53\n",
      "Raster 43 time: 51.95\n",
      "Raster 44 time: 55.58\n",
      "Raster 45 time: 52.5\n",
      "Raster 46 time: 53.21\n",
      "Raster 47 time: 58.12\n",
      "Raster 48 time: 54.74\n",
      "Raster 49 time: 53.84\n",
      "Raster 50 time: 54.42\n",
      "Raster 51 time: 53.73\n",
      "Raster 52 time: 52.91\n",
      "Raster 53 time: 55.99\n",
      "Raster 54 time: 57.96\n",
      "Raster 55 time: 54.74\n",
      "Raster 56 time: 53.57\n",
      "Raster 57 time: 54.32\n",
      "Raster 58 time: 53.59\n",
      "Raster 59 time: 53.58\n",
      "Raster 60 time: 65.2\n",
      "Raster 61 time: 136.63\n",
      "Raster 62 time: 77.23\n",
      "Raster 63 time: 54.74\n",
      "Raster 64 time: 54.91\n",
      "Raster 65 time: 55.58\n",
      "Raster 66 time: 58.31\n",
      "Raster 67 time: 55.24\n",
      "Raster 68 time: 54.41\n",
      "Raster 69 time: 54.27\n",
      "Raster 70 time: 54.76\n",
      "Raster 71 time: 54.13\n",
      "Raster 72 time: 55.38\n",
      "Raster 73 time: 54.47\n",
      "Raster 74 time: 53.99\n",
      "Raster 75 time: 53.57\n",
      "Raster 76 time: 54.93\n",
      "Raster 77 time: 52.18\n",
      "Raster 78 time: 52.71\n",
      "Raster 79 time: 53.73\n",
      "Raster 80 time: 54.01\n",
      "Raster saved in 4632.61 seconds\n"
     ]
    }
   ],
   "source": [
    "start_process = time.time()\n",
    "for i, j in enumerate(df_list):\n",
    "    col_names = j.drop(['latitude','longitude'], axis=1).columns\n",
    "    path = r\"testing/raster_\" + str(i+1) + \".tif\"\n",
    "    start = time.time()\n",
    "    save.save_tiff_from_df(j, col_names, dummy_value, path, \"EPSG:4326\")\n",
    "    end = time.time()\n",
    "    print(\"Raster \" + str(i) + \" time: \" + str(round(end-start, 2)))\n",
    "end_process = time.time()\n",
    "print(\"Raster saved in \" + str(round(end_process-start_process, 2)) + \" seconds\")"
   ]
  },
  {
   "cell_type": "markdown",
   "id": "a3792cf0-ccaa-4b3c-8eea-c45fe355f7e2",
   "metadata": {},
   "source": [
    "## Method\n",
    "The resulting images are sorted into order for reading as raster objects."
   ]
  },
  {
   "cell_type": "code",
   "execution_count": 94,
   "id": "a19b3dbc-61df-4203-9dd4-32e380b964e1",
   "metadata": {},
   "outputs": [
    {
     "data": {
      "text/html": [
       "\n",
       "            <style>\n",
       "                .geemap-dark {\n",
       "                    --jp-widgets-color: white;\n",
       "                    --jp-widgets-label-color: white;\n",
       "                    --jp-ui-font-color1: white;\n",
       "                    --jp-layout-color2: #454545;\n",
       "                    background-color: #383838;\n",
       "                }\n",
       "\n",
       "                .geemap-dark .jupyter-button {\n",
       "                    --jp-layout-color3: #383838;\n",
       "                }\n",
       "\n",
       "                .geemap-colab {\n",
       "                    background-color: var(--colab-primary-surface-color, white);\n",
       "                }\n",
       "\n",
       "                .geemap-colab .jupyter-button {\n",
       "                    --jp-layout-color3: var(--colab-primary-surface-color, white);\n",
       "                }\n",
       "            </style>\n",
       "            "
      ],
      "text/plain": [
       "<IPython.core.display.HTML object>"
      ]
     },
     "metadata": {},
     "output_type": "display_data"
    }
   ],
   "source": [
    "directory = 'testing'\n",
    "files = [directory + \"/\" + f for f in os.listdir(directory) if os.path.isfile(os.path.join(directory, f)) and f.startswith('raster')]\n",
    "\n",
    "def extract_number(s):\n",
    "    match = re.search(r'\\d+', s)\n",
    "    return int(match.group()) if match else float('inf')\n",
    "\n",
    "sorted_files = sorted(files, key=extract_number)"
   ]
  },
  {
   "cell_type": "markdown",
   "id": "73feb8de-78f5-496d-a57f-21543110200d",
   "metadata": {},
   "source": [
    "The raster bands are individually appended into a list and concatenated into a single data cube. This data is then scaled through regular standardization."
   ]
  },
  {
   "cell_type": "code",
   "execution_count": 97,
   "id": "03542743-066c-4adb-9d40-eb44e1afd276",
   "metadata": {},
   "outputs": [
    {
     "data": {
      "text/html": [
       "\n",
       "            <style>\n",
       "                .geemap-dark {\n",
       "                    --jp-widgets-color: white;\n",
       "                    --jp-widgets-label-color: white;\n",
       "                    --jp-ui-font-color1: white;\n",
       "                    --jp-layout-color2: #454545;\n",
       "                    background-color: #383838;\n",
       "                }\n",
       "\n",
       "                .geemap-dark .jupyter-button {\n",
       "                    --jp-layout-color3: #383838;\n",
       "                }\n",
       "\n",
       "                .geemap-colab {\n",
       "                    background-color: var(--colab-primary-surface-color, white);\n",
       "                }\n",
       "\n",
       "                .geemap-colab .jupyter-button {\n",
       "                    --jp-layout-color3: var(--colab-primary-surface-color, white);\n",
       "                }\n",
       "            </style>\n",
       "            "
      ],
      "text/plain": [
       "<IPython.core.display.HTML object>"
      ]
     },
     "metadata": {},
     "output_type": "display_data"
    }
   ],
   "source": [
    "rasters = []\n",
    "for i in sorted_files:\n",
    "    temp = rasterio.open(i)\n",
    "    rasters.append(temp.read())\n",
    "    temp.close()"
   ]
  },
  {
   "cell_type": "code",
   "execution_count": 110,
   "id": "6d8a93a7-fa9d-41ce-bf53-d14aa213fd64",
   "metadata": {},
   "outputs": [
    {
     "data": {
      "text/html": [
       "\n",
       "            <style>\n",
       "                .geemap-dark {\n",
       "                    --jp-widgets-color: white;\n",
       "                    --jp-widgets-label-color: white;\n",
       "                    --jp-ui-font-color1: white;\n",
       "                    --jp-layout-color2: #454545;\n",
       "                    background-color: #383838;\n",
       "                }\n",
       "\n",
       "                .geemap-dark .jupyter-button {\n",
       "                    --jp-layout-color3: #383838;\n",
       "                }\n",
       "\n",
       "                .geemap-colab {\n",
       "                    background-color: var(--colab-primary-surface-color, white);\n",
       "                }\n",
       "\n",
       "                .geemap-colab .jupyter-button {\n",
       "                    --jp-layout-color3: var(--colab-primary-surface-color, white);\n",
       "                }\n",
       "            </style>\n",
       "            "
      ],
      "text/plain": [
       "<IPython.core.display.HTML object>"
      ]
     },
     "metadata": {},
     "output_type": "display_data"
    }
   ],
   "source": [
    "cube = np.concatenate(rasters)"
   ]
  },
  {
   "cell_type": "code",
   "execution_count": 117,
   "id": "fbe3cfc5-1ea4-4b87-8b08-f5ecfa6927ba",
   "metadata": {},
   "outputs": [
    {
     "data": {
      "text/html": [
       "\n",
       "            <style>\n",
       "                .geemap-dark {\n",
       "                    --jp-widgets-color: white;\n",
       "                    --jp-widgets-label-color: white;\n",
       "                    --jp-ui-font-color1: white;\n",
       "                    --jp-layout-color2: #454545;\n",
       "                    background-color: #383838;\n",
       "                }\n",
       "\n",
       "                .geemap-dark .jupyter-button {\n",
       "                    --jp-layout-color3: #383838;\n",
       "                }\n",
       "\n",
       "                .geemap-colab {\n",
       "                    background-color: var(--colab-primary-surface-color, white);\n",
       "                }\n",
       "\n",
       "                .geemap-colab .jupyter-button {\n",
       "                    --jp-layout-color3: var(--colab-primary-surface-color, white);\n",
       "                }\n",
       "            </style>\n",
       "            "
      ],
      "text/plain": [
       "<IPython.core.display.HTML object>"
      ]
     },
     "metadata": {},
     "output_type": "display_data"
    }
   ],
   "source": [
    "scaled = (cube - np.mean(cube)) / np.std(cube)"
   ]
  },
  {
   "cell_type": "markdown",
   "id": "2f3941cd-7706-4fef-8577-3af6ec733560",
   "metadata": {},
   "source": [
    "These are the time series of $n$ sampled pixel across the data. This plot helps visualize the Spectral Envelope filtering method."
   ]
  },
  {
   "cell_type": "code",
   "execution_count": 141,
   "id": "93b45e77-98b7-4839-8879-e3c5531db26e",
   "metadata": {},
   "outputs": [
    {
     "data": {
      "text/html": [
       "\n",
       "            <style>\n",
       "                .geemap-dark {\n",
       "                    --jp-widgets-color: white;\n",
       "                    --jp-widgets-label-color: white;\n",
       "                    --jp-ui-font-color1: white;\n",
       "                    --jp-layout-color2: #454545;\n",
       "                    background-color: #383838;\n",
       "                }\n",
       "\n",
       "                .geemap-dark .jupyter-button {\n",
       "                    --jp-layout-color3: #383838;\n",
       "                }\n",
       "\n",
       "                .geemap-colab {\n",
       "                    background-color: var(--colab-primary-surface-color, white);\n",
       "                }\n",
       "\n",
       "                .geemap-colab .jupyter-button {\n",
       "                    --jp-layout-color3: var(--colab-primary-surface-color, white);\n",
       "                }\n",
       "            </style>\n",
       "            "
      ],
      "text/plain": [
       "<IPython.core.display.HTML object>"
      ]
     },
     "metadata": {},
     "output_type": "display_data"
    },
    {
     "data": {
      "image/png": "[encoded data removed]",
      "text/plain": [
       "<Figure size 1800x800 with 15 Axes>"
      ]
     },
     "metadata": {},
     "output_type": "display_data"
    }
   ],
   "source": [
    "n_sample = 15\n",
    "nlin = scaled.shape[1]\n",
    "ncol = scaled.shape[2]\n",
    "fig, axs = plt.subplots(3, 5, figsize=(18, 8), sharex=True, sharey=True)\n",
    "\n",
    "lin = random.sample(range(1, nlin), n_sample)\n",
    "col = random.sample(range(1, ncol), n_sample)\n",
    "\n",
    "for i, j, ax in zip(lin, col, axs.ravel()):\n",
    "    \n",
    "    test = scaled[:, i, j].reshape((-1, 1))\n",
    "    \n",
    "    xdata = np.concatenate((test, np.abs(test)**5), axis=1)\n",
    "    envelope = spenv.specenv(xdata)\n",
    "    \n",
    "    b = envelope[envelope[:, 1] == max(envelope[:, 1]), 2:]\n",
    "    opt = np.sum(xdata*b, axis=1)\n",
    "    \n",
    "    ax.plot(test, color=\"r\")\n",
    "    ax.plot(opt, color='b')\n",
    "    ax.set_ylim(-np.max(scaled), np.max(scaled))\n",
    "\n",
    "fig.tight_layout()\n",
    "fig.legend(labels=['original', 'transform'], ncol=2, loc='upper right')\n",
    "fig.subplots_adjust(top=0.92)"
   ]
  },
  {
   "cell_type": "code",
   "execution_count": null,
   "id": "3fbc6afb-8dc7-4d27-95b9-af516c370390",
   "metadata": {},
   "outputs": [
    {
     "data": {
      "text/html": [
       "\n",
       "            <style>\n",
       "                .geemap-dark {\n",
       "                    --jp-widgets-color: white;\n",
       "                    --jp-widgets-label-color: white;\n",
       "                    --jp-ui-font-color1: white;\n",
       "                    --jp-layout-color2: #454545;\n",
       "                    background-color: #383838;\n",
       "                }\n",
       "\n",
       "                .geemap-dark .jupyter-button {\n",
       "                    --jp-layout-color3: #383838;\n",
       "                }\n",
       "\n",
       "                .geemap-colab {\n",
       "                    background-color: var(--colab-primary-surface-color, white);\n",
       "                }\n",
       "\n",
       "                .geemap-colab .jupyter-button {\n",
       "                    --jp-layout-color3: var(--colab-primary-surface-color, white);\n",
       "                }\n",
       "            </style>\n",
       "            "
      ],
      "text/plain": [
       "<IPython.core.display.HTML object>"
      ]
     },
     "metadata": {},
     "output_type": "display_data"
    },
    {
     "name": "stdout",
     "output_type": "stream",
     "text": [
      "190543/2296668\r"
     ]
    },
    {
     "name": "stderr",
     "output_type": "stream",
     "text": [
      "IOPub data rate exceeded.\n",
      "The Jupyter server will temporarily stop sending output\n",
      "to the client in order to avoid crashing it.\n",
      "To change this limit, set the config variable\n",
      "`--ServerApp.iopub_data_rate_limit`.\n",
      "\n",
      "Current values:\n",
      "ServerApp.iopub_data_rate_limit=1000000.0 (bytes/sec)\n",
      "ServerApp.rate_limit_window=3.0 (secs)\n",
      "\n"
     ]
    },
    {
     "name": "stdout",
     "output_type": "stream",
     "text": [
      "522719/2296668\r"
     ]
    }
   ],
   "source": [
    "optimal = np.ndarray(scaled.shape)\n",
    "size = optimal.shape[1] * optimal.shape[2]\n",
    "counter = 0\n",
    "\n",
    "start = time.time()\n",
    "for i in range(0, optimal.shape[1]):\n",
    "    for j in range(0, optimal.shape[2]):\n",
    "        counter += 1\n",
    "        #aux = scaled[:, i, j].reshape((-1, 1))\n",
    "        optimal[:, i, j] = 1\n",
    "        #spenv.spec_opt(aux, lambda t: np.abs(t)**5)\n",
    "        print(str(counter) + \"/\" + str(size), end=\"\\r\")\n",
    "\n",
    "end = time.time()\n",
    "print(\"Time: \" + str(end-start))"
   ]
  },
  {
   "cell_type": "code",
   "execution_count": null,
   "id": "f653412d-010d-496f-ab54-b803c44c2445",
   "metadata": {},
   "outputs": [],
   "source": []
  }
 ],
 "metadata": {
  "kernelspec": {
   "display_name": "Python 3 (ipykernel)",
   "language": "python",
   "name": "python3"
  },
  "language_info": {
   "codemirror_mode": {
    "name": "ipython",
    "version": 3
   },
   "file_extension": ".py",
   "mimetype": "text/x-python",
   "name": "python",
   "nbconvert_exporter": "python",
   "pygments_lexer": "ipython3",
   "version": "3.9.19"
  }
 },
 "nbformat": 4,
 "nbformat_minor": 5
}
