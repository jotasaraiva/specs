{
 "cells": [
  {
   "cell_type": "code",
   "execution_count": 1,
   "id": "8c4368a7-fe6a-4c2d-acd6-a49acb140478",
   "metadata": {},
   "outputs": [],
   "source": [
    "import ee\n",
    "import geemap\n",
    "import pandas as pd\n",
    "import numpy as np\n",
    "import random\n",
    "import matplotlib.pyplot as plt\n",
    "import seaborn as sn\n",
    "import time\n",
    "import os\n",
    "import re\n",
    "from skimage.filters import try_all_threshold, threshold_otsu\n",
    "from skimage.restoration import denoise_wavelet\n",
    "from pkg import pkg\n",
    "from pkg import save\n",
    "from osgeo import gdal\n",
    "import rasterio\n",
    "from rasterio.mask import mask\n",
    "import geopandas as gpd\n",
    "import spenv"
   ]
  },
  {
   "cell_type": "code",
   "execution_count": 2,
   "id": "ba66580e-c405-47bb-a678-55662159b15d",
   "metadata": {},
   "outputs": [
    {
     "data": {
      "text/html": [
       "\n",
       "            <style>\n",
       "                .geemap-dark {\n",
       "                    --jp-widgets-color: white;\n",
       "                    --jp-widgets-label-color: white;\n",
       "                    --jp-ui-font-color1: white;\n",
       "                    --jp-layout-color2: #454545;\n",
       "                    background-color: #383838;\n",
       "                }\n",
       "\n",
       "                .geemap-dark .jupyter-button {\n",
       "                    --jp-layout-color3: #383838;\n",
       "                }\n",
       "\n",
       "                .geemap-colab {\n",
       "                    background-color: var(--colab-primary-surface-color, white);\n",
       "                }\n",
       "\n",
       "                .geemap-colab .jupyter-button {\n",
       "                    --jp-layout-color3: var(--colab-primary-surface-color, white);\n",
       "                }\n",
       "            </style>\n",
       "            "
      ],
      "text/plain": [
       "<IPython.core.display.HTML object>"
      ]
     },
     "metadata": {},
     "output_type": "display_data"
    }
   ],
   "source": [
    "ee.Authenticate()\n",
    "ee.Initialize()\n",
    "coordenadas = \"-51.881964,3.928400,-51.746512,3.791524\"\n",
    "x1, y1, x2, y2 = coordenadas.split(\",\")\n",
    "\n",
    "datas = \"2018-01-01,2020-12-31\"\n",
    "inicio, fim = datas.split(\",\")\n",
    "escala = 30\n",
    "dummy_value = 99999\n",
    "\n",
    "geom = ee.Geometry.Polygon([[[float(x1),float(y2)],\n",
    "                             [float(x2),float(y2)],\n",
    "                             [float(x2),float(y1)],\n",
    "                             [float(x1),float(y1)],\n",
    "                             [float(x1),float(y2)]]])\n",
    "\n",
    "\n",
    "sentinel1 = ee.ImageCollection('COPERNICUS/S1_GRD')\\\n",
    "    .filterBounds(geom)\\\n",
    "    .filterDate(inicio,fim)\\\n",
    "    .filter(ee.Filter.listContains('transmitterReceiverPolarisation', 'VV'))\\\n",
    "    .filter(ee.Filter.listContains('transmitterReceiverPolarisation', 'VH'))\\\n",
    "    .filter(ee.Filter.eq('instrumentMode', 'IW'))\n",
    "    \n",
    "v_emit_asc = sentinel1.filter(ee.Filter.eq('orbitProperties_pass', 'ASCENDING'))\n",
    "v_emit_desc = sentinel1.filter(ee.Filter.eq('orbitProperties_pass', 'DESCENDING'))\n",
    "\n",
    "image = ee.Image(dummy_value).blend(v_emit_desc.map(pkg.add_amplitude).select('amplitude').toBands())\n",
    "image_names = image.bandNames().getInfo()"
   ]
  },
  {
   "cell_type": "code",
   "execution_count": 3,
   "id": "cf4aa71d-75ff-4baf-8f99-3776858337f4",
   "metadata": {},
   "outputs": [
    {
     "data": {
      "text/html": [
       "\n",
       "            <style>\n",
       "                .geemap-dark {\n",
       "                    --jp-widgets-color: white;\n",
       "                    --jp-widgets-label-color: white;\n",
       "                    --jp-ui-font-color1: white;\n",
       "                    --jp-layout-color2: #454545;\n",
       "                    background-color: #383838;\n",
       "                }\n",
       "\n",
       "                .geemap-dark .jupyter-button {\n",
       "                    --jp-layout-color3: #383838;\n",
       "                }\n",
       "\n",
       "                .geemap-colab {\n",
       "                    background-color: var(--colab-primary-surface-color, white);\n",
       "                }\n",
       "\n",
       "                .geemap-colab .jupyter-button {\n",
       "                    --jp-layout-color3: var(--colab-primary-surface-color, white);\n",
       "                }\n",
       "            </style>\n",
       "            "
      ],
      "text/plain": [
       "<IPython.core.display.HTML object>"
      ]
     },
     "metadata": {},
     "output_type": "display_data"
    },
    {
     "name": "stdout",
     "output_type": "stream",
     "text": [
      "81/81: testing/optimal_81.tif\r"
     ]
    }
   ],
   "source": [
    "directory = 'testing'\n",
    "files = [directory + \"/\" + f for f in os.listdir(directory) if os.path.isfile(os.path.join(directory, f)) and f.startswith('optimal')]\n",
    "\n",
    "def extract_number(s):\n",
    "    match = re.search(r'\\d+', s)\n",
    "    return int(match.group()) if match else float('inf')\n",
    "\n",
    "sorted_files = sorted(files, key=extract_number)\n",
    "\n",
    "Y = []\n",
    "for n, i in enumerate(sorted_files):\n",
    "    temp = rasterio.open(i)\n",
    "    Y.append(temp.read())\n",
    "    temp.close()\n",
    "    print(str(n+1)+\"/\"+str(len(sorted_files))+\": \"+sorted_files[n], end=\"\\r\")\n",
    "\n",
    "Y = np.concatenate(Y)"
   ]
  },
  {
   "cell_type": "code",
   "execution_count": 4,
   "id": "1332ad93-ad60-43c1-aecb-4ffc441abcc1",
   "metadata": {},
   "outputs": [
    {
     "data": {
      "text/html": [
       "\n",
       "            <style>\n",
       "                .geemap-dark {\n",
       "                    --jp-widgets-color: white;\n",
       "                    --jp-widgets-label-color: white;\n",
       "                    --jp-ui-font-color1: white;\n",
       "                    --jp-layout-color2: #454545;\n",
       "                    background-color: #383838;\n",
       "                }\n",
       "\n",
       "                .geemap-dark .jupyter-button {\n",
       "                    --jp-layout-color3: #383838;\n",
       "                }\n",
       "\n",
       "                .geemap-colab {\n",
       "                    background-color: var(--colab-primary-surface-color, white);\n",
       "                }\n",
       "\n",
       "                .geemap-colab .jupyter-button {\n",
       "                    --jp-layout-color3: var(--colab-primary-surface-color, white);\n",
       "                }\n",
       "            </style>\n",
       "            "
      ],
      "text/plain": [
       "<IPython.core.display.HTML object>"
      ]
     },
     "metadata": {},
     "output_type": "display_data"
    },
    {
     "name": "stdout",
     "output_type": "stream",
     "text": [
      "81/81: testing/raster_81.tif\r"
     ]
    }
   ],
   "source": [
    "directory = 'testing'\n",
    "files = [directory + \"/\" + f for f in os.listdir(directory) if os.path.isfile(os.path.join(directory, f)) and f.startswith('raster')]\n",
    "\n",
    "def extract_number(s):\n",
    "    match = re.search(r'\\d+', s)\n",
    "    return int(match.group()) if match else float('inf')\n",
    "\n",
    "sorted_files = sorted(files, key=extract_number)\n",
    "\n",
    "X = []\n",
    "for n, i in enumerate(sorted_files):\n",
    "    temp = rasterio.open(i)\n",
    "    X.append(temp.read())\n",
    "    temp.close()\n",
    "    print(str(n+1)+\"/\"+str(len(sorted_files))+\": \"+sorted_files[n], end=\"\\r\")\n",
    "\n",
    "X = np.concatenate(X)"
   ]
  },
  {
   "cell_type": "code",
   "execution_count": 5,
   "id": "09d599da-cb67-41d3-b7e8-f8794247dcd5",
   "metadata": {},
   "outputs": [
    {
     "data": {
      "text/html": [
       "\n",
       "            <style>\n",
       "                .geemap-dark {\n",
       "                    --jp-widgets-color: white;\n",
       "                    --jp-widgets-label-color: white;\n",
       "                    --jp-ui-font-color1: white;\n",
       "                    --jp-layout-color2: #454545;\n",
       "                    background-color: #383838;\n",
       "                }\n",
       "\n",
       "                .geemap-dark .jupyter-button {\n",
       "                    --jp-layout-color3: #383838;\n",
       "                }\n",
       "\n",
       "                .geemap-colab {\n",
       "                    background-color: var(--colab-primary-surface-color, white);\n",
       "                }\n",
       "\n",
       "                .geemap-colab .jupyter-button {\n",
       "                    --jp-layout-color3: var(--colab-primary-surface-color, white);\n",
       "                }\n",
       "            </style>\n",
       "            "
      ],
      "text/plain": [
       "<IPython.core.display.HTML object>"
      ]
     },
     "metadata": {},
     "output_type": "display_data"
    }
   ],
   "source": [
    "del temp"
   ]
  },
  {
   "cell_type": "code",
   "execution_count": 6,
   "id": "9d9de647-2c03-49a6-acba-4c29201388ca",
   "metadata": {},
   "outputs": [
    {
     "data": {
      "text/html": [
       "\n",
       "            <style>\n",
       "                .geemap-dark {\n",
       "                    --jp-widgets-color: white;\n",
       "                    --jp-widgets-label-color: white;\n",
       "                    --jp-ui-font-color1: white;\n",
       "                    --jp-layout-color2: #454545;\n",
       "                    background-color: #383838;\n",
       "                }\n",
       "\n",
       "                .geemap-dark .jupyter-button {\n",
       "                    --jp-layout-color3: #383838;\n",
       "                }\n",
       "\n",
       "                .geemap-colab {\n",
       "                    background-color: var(--colab-primary-surface-color, white);\n",
       "                }\n",
       "\n",
       "                .geemap-colab .jupyter-button {\n",
       "                    --jp-layout-color3: var(--colab-primary-surface-color, white);\n",
       "                }\n",
       "            </style>\n",
       "            "
      ],
      "text/plain": [
       "<IPython.core.display.HTML object>"
      ]
     },
     "metadata": {},
     "output_type": "display_data"
    }
   ],
   "source": [
    "std = np.std(X)\n",
    "mean = np.mean(X)\n",
    "Y_ = (Y * std) + mean"
   ]
  },
  {
   "cell_type": "code",
   "execution_count": 16,
   "id": "0d573279-8e1d-427e-9274-12c76838ee00",
   "metadata": {},
   "outputs": [
    {
     "data": {
      "text/html": [
       "\n",
       "            <style>\n",
       "                .geemap-dark {\n",
       "                    --jp-widgets-color: white;\n",
       "                    --jp-widgets-label-color: white;\n",
       "                    --jp-ui-font-color1: white;\n",
       "                    --jp-layout-color2: #454545;\n",
       "                    background-color: #383838;\n",
       "                }\n",
       "\n",
       "                .geemap-dark .jupyter-button {\n",
       "                    --jp-layout-color3: #383838;\n",
       "                }\n",
       "\n",
       "                .geemap-colab {\n",
       "                    background-color: var(--colab-primary-surface-color, white);\n",
       "                }\n",
       "\n",
       "                .geemap-colab .jupyter-button {\n",
       "                    --jp-layout-color3: var(--colab-primary-surface-color, white);\n",
       "                }\n",
       "            </style>\n",
       "            "
      ],
      "text/plain": [
       "<IPython.core.display.HTML object>"
      ]
     },
     "metadata": {},
     "output_type": "display_data"
    }
   ],
   "source": [
    "def ECS(x, smooth_x=None):\n",
    "    \n",
    "    assert isinstance(x, np.ndarray), \"'x' is not a numpy.ndarray\"\n",
    "    assert len(x.shape) == 3, \"'x' is not three-dimensional\"\n",
    "\n",
    "    mean_image = x.mean(axis=0)\n",
    "    \n",
    "    if smooth_x is not None:\n",
    "        assert isinstance(smooth_x, np.ndarray), \"'smooth_x' is not a numpy.ndarray\"\n",
    "        assert len(smooth_x.shape) == 3, \"'smooth_x' is not three-dimensional\"\n",
    "        assert x.shape == smooth_x.shape, \"'x' and 'smooth_x' are different shapes\"\n",
    "        cube = smooth_x\n",
    "    else:\n",
    "        cube = x\n",
    "\n",
    "    R = np.ndarray(mean_image.shape)\n",
    "    D = np.ndarray(cube.shape)\n",
    "\n",
    "    dims = mean_image.shape\n",
    "    \n",
    "    lin = dims[0]\n",
    "    col = dims[1]\n",
    "    \n",
    "    for i in range(0, cube.shape[0]):\n",
    "        D[i] = (cube[i] - mean_image)**2\n",
    "    \n",
    "    d = D.sum(axis=(1, 2)).ravel()\n",
    "\n",
    "    for i in range(lin):\n",
    "        for j in range(col):\n",
    "            R[i, j] = np.abs(np.corrcoef(d, D[:, i, j])[0][1])\n",
    "    \n",
    "    return R"
   ]
  },
  {
   "cell_type": "code",
   "execution_count": null,
   "id": "1b77e14c-c30f-4bae-949d-b31b12ee2b34",
   "metadata": {},
   "outputs": [],
   "source": [
    "wav = denoise_wavelet(Y_[0], rescale_sigma=True)\n",
    "\n",
    "fig, ax = plt.subplots(1, 2)\n",
    "ax[0].imshow(Y_[1], cmap=\"gray\")\n",
    "ax[1].imshow(wav, cmap=\"gray\")\n",
    "plt.tight_layout()\n",
    "plt.show()"
   ]
  },
  {
   "cell_type": "code",
   "execution_count": null,
   "id": "b3f7e5d8-bc36-4963-ba97-3905cf6d50c4",
   "metadata": {},
   "outputs": [],
   "source": [
    "list(X)"
   ]
  },
  {
   "cell_type": "code",
   "execution_count": null,
   "id": "a8cf918f-08a4-418c-8de1-712963d1b49a",
   "metadata": {},
   "outputs": [],
   "source": []
  }
 ],
 "metadata": {
  "kernelspec": {
   "display_name": "Python 3 (Spyder)",
   "language": "python3",
   "name": "python3"
  },
  "language_info": {
   "codemirror_mode": {
    "name": "ipython",
    "version": 3
   },
   "file_extension": ".py",
   "mimetype": "text/x-python",
   "name": "python",
   "nbconvert_exporter": "python",
   "pygments_lexer": "ipython3",
   "version": "3.9.19"
  }
 },
 "nbformat": 4,
 "nbformat_minor": 5
}
